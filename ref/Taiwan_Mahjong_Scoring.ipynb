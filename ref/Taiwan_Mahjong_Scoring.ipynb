{
 "cells": [
  {
   "cell_type": "markdown",
   "id": "245ecea9",
   "metadata": {},
   "source": [
    "# Taiwanese Mahjong Scoring & Rules (Translated)"
   ]
  },
  {
   "cell_type": "markdown",
   "id": "96f8f856",
   "metadata": {},
   "source": [
    "This is a translation of the '港式台灣麻雀番數表' (Hong Kong Style Taiwan Mahjong Scoring Table) and its associated rules."
   ]
  },
  {
   "cell_type": "markdown",
   "id": "5e37fc8a",
   "metadata": {},
   "source": [
    "## General Rules (規則)"
   ]
  },
  {
   "cell_type": "markdown",
   "id": "7860cbc6",
   "metadata": {},
   "source": [
    "- **Dealing:** At the start of each round, players draw tiles four times (4 tiles each time). The dealer draws one extra tile for a total of 17 tiles, while non-dealers have 16.\n",
    "- **Supplementing Flowers:** The dealer must supplement their flower tiles first and announce \"Please\" (請). The next player can then supplement their flowers and announce \"Please\", and so on. The dealer can only discard their first tile after the last player has supplemented their flowers and announced \"Please\".\n",
    "- **Declaring a Win:** When winning, you must not mix the winning tile into your hand. It must be kept separate on the side; otherwise, the win is invalid.\n",
    "- **Passing a Win (`過水`):** If you are waiting for multiple tiles (e.g., 3, 6, 9 of Circles) and an opponent discards one of them (e.g., 6 of Circles) which you choose not to win from, you cannot win for the remainder of that turn cycle. This applies to both self-drawn wins and winning from another player's discard. You may win again only after your next turn begins. This rule prevents players from selectively targeting others.\n",
    "- **Calling Sets:** After an opponent discards, if you want to claim the tile for a 'Sheung' (上, Chow), you must first place the claimed tile in front of you, reveal your other two tiles that form the Chow, and then discard a tile. After you discard, other players cannot 'Peng' the tile you just discarded.\n",
    "- **Turn Flow:** After a player discards, the next player in sequence can draw a tile, unless someone calls 'Peng' or 'Kong' on the discard.\n",
    "- **No Penalty for 'Broken Bridge' (`斷橋`):** This is a game for entertainment; there is no penalty for 'Broken Bridge' (a house rule term)."
   ]
  },
  {
   "cell_type": "markdown",
   "id": "5b9d2099",
   "metadata": {},
   "source": [
    "## On-the-Spot Payments (即時付錢)"
   ]
  },
  {
   "cell_type": "markdown",
   "id": "43614aee",
   "metadata": {},
   "source": [
    "These payments are made immediately when the event occurs.\n",
    "\n",
    "- **Flower Tile (一台花):** For each flower tile drawn, receive one base unit from each of the other three players.\n",
    "- **'Grass' Tile (一台草):** For each 'Grass' tile (a specific bonus tile), receive two base units from each of the other three players.\n",
    "- **Concealed Kong (暗摃):** Receive one base unit from each of the other three players. The Kong must be revealed at the end of the hand; otherwise, it's a penalty of two base units per player.\n",
    "- **Chase (追):** If all four players discard the same tile in sequence, the first player to discard it pays one base unit to each of the other three players.\n",
    "- **Dealer Dice Roll (1-2-3):** If the dealer rolls a 1, 2, and 3 with the dice to start the round, they must pay one base unit to each of the other three players.\n",
    "- **Dealer Dice Roll (Triplet):** If the dealer rolls a triplet (e.g., 4-4-4) to start the round, they receive one base unit from each of the other three players.\n",
    "- **False Win (詐胡):** A player who incorrectly declares a win must pay the equivalent of a 30 Fan win to each of the other three players.\n",
    "- **Calling Peng but Not Completing:** A player who calls 'Peng' but then doesn't have a valid set must pay one base unit to the discarder."
   ]
  },
  {
   "cell_type": "markdown",
   "id": "7f303ee0",
   "metadata": {},
   "source": [
    "## Dealer Rules (做莊)"
   ]
  },
  {
   "cell_type": "markdown",
   "id": "24dd10ed",
   "metadata": {},
   "source": [
    "- **Dealer Win:** If the dealer wins, they get an additional 1 Fan.\n",
    "- **Continuing Dealership (`拉莊`):** If the dealer wins, they remain the dealer for the next hand. This is called 'Continuing Dealership'.\n",
    "  - **1st Continuation (`連一`):** For the first consecutive win, the dealer places a die with the '1' facing up. This adds **3 Fan** to their next win.\n",
    "  - **2nd Continuation (`連二`):** For the second consecutive win, the die is turned to '2'. This adds **5 Fan**.\n",
    "  - **Formula:** The bonus Fan is calculated as `(Number of continuations x 2) + 1`. For example, a 5th continuation (`連五`) adds `5 * 2 + 1 = 11` Fan.\n",
    "- **Losing the Dealership:** If the dealer loses while there is a continuation bonus active (either by another player's self-drawn win or by discarding a winning tile), the bonus Fan is transferred to the winning player. For example, if the dealer is on a 3rd continuation (`連三`, +7 Fan bonus) and the West player wins with a 10 Fan hand by self-draw, the South and North players pay for 10 Fan, but the dealer must pay for **17 Fan** (10 + 7)."
   ]
  },
  {
   "cell_type": "markdown",
   "id": "e691b2a3",
   "metadata": {},
   "source": [
    "## Scoring & Payment Calculation (計錢方法)"
   ]
  },
  {
   "cell_type": "markdown",
   "id": "5f5c3244",
   "metadata": {},
   "source": [
    "Taiwan Mahjong scoring is based on a **Base Value (`底`)** plus the **Fan Value (`翻數`)**.\n",
    "\n",
    "1.  **Set Stakes:** Before playing, agree on the monetary value for the Base and for each Fan. If not specified, the default is **$10 Base, $1 per Fan**.\n",
    "2.  **Basic Calculation:** The payout for a winning hand is `(Fan total * Value per Fan) + Base Value`. \n",
    "    *Example:* With $10 Base and $1/Fan, a 16 Fan hand wins `(16 * $1) + $10 = $26` from the loser.\n",
    "3.  **The 'Pull' (`拉`) System:** Payments are not settled after each hand. Instead, winnings/losses are tracked and accumulate.\n",
    "    - If a player wins a second consecutive hand, the amount owed by the other players from the *previous* hand is multiplied by **1.5**, and the value of the current hand is added to it.\n",
    "    - If the previous winner loses the current hand (either by self-draw or by discarding the winning tile), their tracked winnings are **halved**.\n",
    "\n",
    "**Example Scenario ($10 Base, $2/Fan):**\n",
    "- **Hand 1:** East (dealer) wins with a 13 Fan self-drawn hand. South, West, and North each now owe East `$36` (`13 * $2 + $10`). This amount is tracked at their corner.\n",
    "- **Hand 2:** South discards a tile that lets East win with a 5 Fan hand.\n",
    "  - South's debt to East becomes: `($36 * 1.5) + (5 * $2 + $10) = $54 + $20 = $74`.\n",
    "  - West and North's debt remains `$36` each.\n",
    "- **Hand 3 (Possibilities):**\n",
    "  - **Scenario A:** Another player (e.g., West) wins from North's discard. East collects all tracked debts: `$74` from South, `$36` from West, and `$36` from North.\n",
    "  - **Scenario B:** East discards a tile and South wins. East's winnings from South are halved. South now only owes East `$37` (`$74 / 2`). West and North still owe East `$36` each.\n",
    "  - **Scenario C:** East wins again. The debts from Hand 2 are multiplied by 1.5, and the value of the new winning hand is added."
   ]
  },
  {
   "cell_type": "markdown",
   "id": "88f32d55",
   "metadata": {},
   "source": [
    "## Fan Scoring Table (番數表)"
   ]
  },
  {
   "cell_type": "markdown",
   "id": "57b10809",
   "metadata": {},
   "source": [
    "### 88 Fan (Maximum Limit)"
   ]
  },
  {
   "cell_type": "markdown",
   "id": "11fbcad9",
   "metadata": {},
   "source": [
    "- **大四喜 (Great Four Winds):** Four Pungs/Kongs of the four wind tiles.\n",
    "- **大三元 (Great Three Dragons):** Three Pungs/Kongs of the three dragon tiles.\n",
    "- **綠一色 (All Green):** Hand composed entirely of green tiles (2, 3, 4, 6, 8 of Bamboo, and Green Dragon).\n",
    "- **九蓮寶燈 (Nine Gates):** Concealed hand of 1112345678999 in one suit, winning on any tile of that suit.\n",
    "- **四槓 (Four Kongs):** A hand with four Kongs.\n",
    "- **連七對 (Seven Consecutive Pairs):** Seven pairs with consecutive numbers in the same suit.\n",
    "- **天胡 (Heavenly Hand):** Dealer wins with their initial 14 tiles.\n",
    "- **地胡 (Earthly Hand):** Non-dealer wins on the dealer's first discard.\n",
    "- **人胡 (Humanly Hand):** Winning on the first tile drawn by any player before their first discard."
   ]
  },
  {
   "cell_type": "markdown",
   "id": "4df0548b",
   "metadata": {},
   "source": [
    "### 64 Fan"
   ]
  },
  {
   "cell_type": "markdown",
   "id": "c0d677fb",
   "metadata": {},
   "source": [
    "- **小四喜 (Lesser Four Winds):** Three Pungs of wind tiles and a pair of the fourth wind.\n",
    "- **字一色 (All Honors):** Hand composed entirely of honor tiles (Winds and Dragons).\n",
    "- **清老頭 (All Terminals):** Hand composed entirely of terminal tiles (1s and 9s).\n",
    "- **四暗刻 (Four Concealed Pungs):** Four self-drawn Pungs (or concealed Kongs)."
   ]
  },
  {
   "cell_type": "markdown",
   "id": "68e8a778",
   "metadata": {},
   "source": [
    "### 48 Fan"
   ]
  },
  {
   "cell_type": "markdown",
   "id": "cd26a3f8",
   "metadata": {},
   "source": [
    "- **一色四順 (Four Identical Chows):** Four identical Chows in the same suit.\n",
    "- **一色四節高 (Four Sequential Pungs):** Four Pungs of the same suit with consecutive numbers."
   ]
  },
  {
   "cell_type": "markdown",
   "id": "7e0876d9",
   "metadata": {},
   "source": [
    "### 32 Fan"
   ]
  },
  {
   "cell_type": "markdown",
   "id": "aebc33c9",
   "metadata": {},
   "source": [
    "- **一色三節高 (Three Sequential Pungs):** Three Pungs of the same suit with consecutive numbers.\n",
    "- **大三風 (Three Great Winds):** Three Pungs of wind tiles."
   ]
  },
  {
   "cell_type": "markdown",
   "id": "6196eb27",
   "metadata": {},
   "source": [
    "### 24 Fan"
   ]
  },
  {
   "cell_type": "markdown",
   "id": "453939ad",
   "metadata": {},
   "source": [
    "- **七對子 (Seven Pairs):** A hand of seven different pairs.\n",
    "- **清一色 (Full Flush):** All tiles are from the same suit.\n",
    "- **湊一色 (Half Flush):** Tiles from one suit plus honor tiles.\n",
    "- **地聽 (Ready on First Turn):** Declaring a ready hand after the first discard."
   ]
  },
  {
   "cell_type": "markdown",
   "id": "afd92d7d",
   "metadata": {},
   "source": [
    "### 16 Fan"
   ]
  },
  {
   "cell_type": "markdown",
   "id": "848661a4",
   "metadata": {},
   "source": [
    "- **三色同順 (Mixed Triple Chow):** Three Chows of the same number sequence in all three suits.\n",
    "- **三色同刻 (Mixed Triple Pung):** Three Pungs of the same number in all three suits.\n",
    "- **三槓 (Three Kongs):** A hand with three Kongs."
   ]
  },
  {
   "cell_type": "markdown",
   "id": "db8130b6",
   "metadata": {},
   "source": [
    "### 12 Fan"
   ]
  },
  {
   "cell_type": "markdown",
   "id": "60d6f1f8",
   "metadata": {},
   "source": [
    "- **小三元 (Lesser Three Dragons):** Two Pungs of dragons and a pair of the third.\n",
    "- **全求人 (All Melded Hand):** Winning by claiming a discard to complete a hand where all other sets are melded.\n",
    "- **海底撈月 (Last Tile Win):** Winning on the very last tile drawn from the wall.\n",
    "- **槓上開花 (Win on Kong Replacement):** Winning on the replacement tile after declaring a Kong."
   ]
  },
  {
   "cell_type": "markdown",
   "id": "45d7d0d3",
   "metadata": {},
   "source": [
    "### 8 Fan"
   ]
  },
  {
   "cell_type": "markdown",
   "id": "db2e462c",
   "metadata": {},
   "source": [
    "- **碰碰胡 (All Pungs):** Four Pungs/Kongs and a pair.\n",
    "- **混老頭 (All Terminals and Honors):** Hand composed only of terminal (1, 9) and honor tiles."
   ]
  },
  {
   "cell_type": "markdown",
   "id": "1432df8f",
   "metadata": {},
   "source": [
    "### 6 Fan"
   ]
  },
  {
   "cell_type": "markdown",
   "id": "4b7a6945",
   "metadata": {},
   "source": [
    "- **三暗刻 (Three Concealed Pungs):** Three self-drawn Pungs."
   ]
  },
  {
   "cell_type": "markdown",
   "id": "5394deba",
   "metadata": {},
   "source": [
    "### 5 Fan"
   ]
  },
  {
   "cell_type": "markdown",
   "id": "2ae35910",
   "metadata": {},
   "source": [
    "- **門清自摸 (Concealed Hand, Self-Drawn Win):** Winning by self-drawing with a fully concealed hand."
   ]
  },
  {
   "cell_type": "markdown",
   "id": "22f42c04",
   "metadata": {},
   "source": [
    "### 4 Fan"
   ]
  },
  {
   "cell_type": "markdown",
   "id": "16a4f5e1",
   "metadata": {},
   "source": [
    "- **平胡 (Common Hand / All Chows):** Four Chows and a non-honor pair.\n",
    "- **斷么九 (All Simples):** No terminal (1, 9) or honor tiles."
   ]
  },
  {
   "cell_type": "markdown",
   "id": "cebf65ef",
   "metadata": {},
   "source": [
    "### 2 Fan"
   ]
  },
  {
   "cell_type": "markdown",
   "id": "8bc830c9",
   "metadata": {},
   "source": [
    "- **圈風 (Round Wind):** A Pung/Kong of the prevailing round wind.\n",
    "- **門風 (Seat Wind):** A Pung/Kong of the player's own seat wind.\n",
    "- **三元牌 (Dragon Pung):** A Pung/Kong of any dragon tile."
   ]
  },
  {
   "cell_type": "markdown",
   "id": "6e77a3c4",
   "metadata": {},
   "source": [
    "### 1 Fan"
   ]
  },
  {
   "cell_type": "markdown",
   "id": "7ac58b7b",
   "metadata": {},
   "source": [
    "- **自摸 (Self-Drawn Win):** Winning by drawing the tile yourself (if the hand is not concealed).\n",
    "- **門清 (Concealed Hand):** A concealed hand won by a discard.\n",
    "- **獨聽 (Single Wait):** Waiting for only one specific tile.\n",
    "- **邊張 (Edge Wait):** Waiting on a 3 for a 1-2 Chow, or a 7 for an 8-9 Chow.\n",
    "- **嵌張 (Middle Wait):** Waiting on the middle tile of a Chow (e.g., a 5 for a 4-6).\n",
    "- **單吊 (Pair Wait):** Waiting for a single tile to complete a pair."
   ]
  }
 ],
 "metadata": {
  "language_info": {
   "name": "python"
  }
 },
 "nbformat": 4,
 "nbformat_minor": 5
}
